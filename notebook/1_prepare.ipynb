{
 "cells": [
  {
   "cell_type": "markdown",
   "metadata": {},
   "source": [
    "This notebook provides scripts for preparing RelaVDEP training files. It includes three essential scripts for data processing, and the final project structure is as follows:"
   ]
  },
  {
   "cell_type": "markdown",
   "metadata": {},
   "source": [
    "```\n",
    "RelaVDEP\n",
    "├── figures\n",
    "├── notebook\n",
    "│   ├── 1_prepare.ipynb (We are here)\n",
    "│   ├── 2_train_rm.ipynb\n",
    "├── relavdep\n",
    "│   ├── data\n",
    "│   │   ├── fasta\n",
    "│   │   │   ├── TARGET.fasta (Wild-type protein sequence)\n",
    "│   │   ├── fitness\n",
    "│   │   │   ├── TARGET.csv (Mutation data)\n",
    "│   │   ├── params\n",
    "│   │   ├── restraints\n",
    "│   │   │   ├── TARGET.npz (Mutation site constraint)\n",
    "├── environment.yml\n",
    "├── README.md\n",
    "```"
   ]
  },
  {
   "cell_type": "markdown",
   "metadata": {},
   "source": [
    "## 1. Wild-type protein sequence"
   ]
  },
  {
   "cell_type": "code",
   "execution_count": 1,
   "metadata": {},
   "outputs": [],
   "source": [
    "import os\n",
    "import sys\n",
    "sys.path.insert(0, '../relavdep')\n",
    "import pandas as pd\n",
    "import numpy as np"
   ]
  },
  {
   "cell_type": "code",
   "execution_count": 2,
   "metadata": {},
   "outputs": [],
   "source": [
    "save_path = '../relavdep/data/fasta'\n",
    "os.makedirs(save_path, exist_ok=True)\n",
    "\n",
    "def generate_fasta(name, sequence):\n",
    "    with open(f'{save_path}/{name}.fasta', 'w') as f:\n",
    "        f.write(f'>{name}\\n')\n",
    "        f.write(wt_seq)"
   ]
  },
  {
   "cell_type": "code",
   "execution_count": 3,
   "metadata": {},
   "outputs": [],
   "source": [
    "name = 'TARGET'\n",
    "wt_seq = 'MSKGEELFTGVVPILVELDGDVNGHKFSVSGEGEGDATYGKLTLKFICTTGKLPVPWPTLVTTLSYGVQCFSRYPDHMKQHDFFKSAMPEGYVQERTIFFKDDGNYKTRAEVKFEGDTLVNRIELKGIDFKEDGNILGHKLEYNYNSHNVYIMADKQKNGIKVNFKIRHNIEDGSVQLADHYQQNTPIGDGPVLLPDNHYLSTQSALSKDPNEKRDHMVLLEFVTAAGITHGMDELYK'\n",
    "\n",
    "generate_fasta(name, wt_seq)"
   ]
  },
  {
   "cell_type": "code",
   "execution_count": 4,
   "metadata": {},
   "outputs": [
    {
     "data": {
      "text/plain": [
       "True"
      ]
     },
     "execution_count": 4,
     "metadata": {},
     "output_type": "execute_result"
    }
   ],
   "source": [
    "# check TARGET.fasta\n",
    "os.path.exists(f'../relavdep/data/fasta/{name}.fasta')"
   ]
  },
  {
   "cell_type": "markdown",
   "metadata": {},
   "source": [
    "## 2. Mutation data"
   ]
  },
  {
   "cell_type": "markdown",
   "metadata": {},
   "source": [
    "Two optional scripts are available for processing mutation data: one for deep mutational scanning (DMS) data from the ProteinGym dataset, and another for experimental data."
   ]
  },
  {
   "cell_type": "code",
   "execution_count": 5,
   "metadata": {},
   "outputs": [],
   "source": [
    "mut_data_path = '../relavdep/data/fitness'\n",
    "os.makedirs(save_path, exist_ok=True)"
   ]
  },
  {
   "cell_type": "markdown",
   "metadata": {},
   "source": [
    "### (1) DMS data processing"
   ]
  },
  {
   "cell_type": "code",
   "execution_count": 6,
   "metadata": {},
   "outputs": [
    {
     "data": {
      "text/html": [
       "<div>\n",
       "<style scoped>\n",
       "    .dataframe tbody tr th:only-of-type {\n",
       "        vertical-align: middle;\n",
       "    }\n",
       "\n",
       "    .dataframe tbody tr th {\n",
       "        vertical-align: top;\n",
       "    }\n",
       "\n",
       "    .dataframe thead th {\n",
       "        text-align: right;\n",
       "    }\n",
       "</style>\n",
       "<table border=\"1\" class=\"dataframe\">\n",
       "  <thead>\n",
       "    <tr style=\"text-align: right;\">\n",
       "      <th></th>\n",
       "      <th>mutant</th>\n",
       "      <th>sequence</th>\n",
       "      <th>label</th>\n",
       "    </tr>\n",
       "  </thead>\n",
       "  <tbody>\n",
       "    <tr>\n",
       "      <th>0</th>\n",
       "      <td>K3R:V55A:Q94R:A110T:D117G:M153K:D216A</td>\n",
       "      <td>MSRGEELFTGVVPILVELDGDVNGHKFSVSGEGEGDATYGKLTLKF...</td>\n",
       "      <td>1.301030</td>\n",
       "    </tr>\n",
       "    <tr>\n",
       "      <th>1</th>\n",
       "      <td>K3Q:V16A:I167T:L195Q</td>\n",
       "      <td>MSQGEELFTGVVPILAELDGDVNGHKFSVSGEGEGDATYGKLTLKF...</td>\n",
       "      <td>3.137350</td>\n",
       "    </tr>\n",
       "    <tr>\n",
       "      <th>2</th>\n",
       "      <td>K3Q:Y143C:N164D:S205P:A227T</td>\n",
       "      <td>MSQGEELFTGVVPILVELDGDVNGHKFSVSGEGEGDATYGKLTLKF...</td>\n",
       "      <td>1.553913</td>\n",
       "    </tr>\n",
       "    <tr>\n",
       "      <th>3</th>\n",
       "      <td>K3Q:Y143N:V193A</td>\n",
       "      <td>MSQGEELFTGVVPILVELDGDVNGHKFSVSGEGEGDATYGKLTLKF...</td>\n",
       "      <td>3.404237</td>\n",
       "    </tr>\n",
       "    <tr>\n",
       "      <th>4</th>\n",
       "      <td>K3R</td>\n",
       "      <td>MSRGEELFTGVVPILVELDGDVNGHKFSVSGEGEGDATYGKLTLKF...</td>\n",
       "      <td>3.738586</td>\n",
       "    </tr>\n",
       "  </tbody>\n",
       "</table>\n",
       "</div>"
      ],
      "text/plain": [
       "                                  mutant  \\\n",
       "0  K3R:V55A:Q94R:A110T:D117G:M153K:D216A   \n",
       "1                   K3Q:V16A:I167T:L195Q   \n",
       "2            K3Q:Y143C:N164D:S205P:A227T   \n",
       "3                        K3Q:Y143N:V193A   \n",
       "4                                    K3R   \n",
       "\n",
       "                                            sequence     label  \n",
       "0  MSRGEELFTGVVPILVELDGDVNGHKFSVSGEGEGDATYGKLTLKF...  1.301030  \n",
       "1  MSQGEELFTGVVPILAELDGDVNGHKFSVSGEGEGDATYGKLTLKF...  3.137350  \n",
       "2  MSQGEELFTGVVPILVELDGDVNGHKFSVSGEGEGDATYGKLTLKF...  1.553913  \n",
       "3  MSQGEELFTGVVPILVELDGDVNGHKFSVSGEGEGDATYGKLTLKF...  3.404237  \n",
       "4  MSRGEELFTGVVPILVELDGDVNGHKFSVSGEGEGDATYGKLTLKF...  3.738586  "
      ]
     },
     "execution_count": 6,
     "metadata": {},
     "output_type": "execute_result"
    }
   ],
   "source": [
    "dms_name = 'GFP_AEQVI_Sarkisyan_2016.csv'\n",
    "\n",
    "dms_data = pd.read_csv(f'{mut_data_path}/{dms_name}')\n",
    "dms_data = dms_data.drop('DMS_score_bin', axis=1)\n",
    "dms_data = dms_data.rename(columns={'mutated_sequence': 'sequence', 'DMS_score': 'label'})\n",
    "dms_data.to_csv(f'{mut_data_path}/{name}.csv', index=False)\n",
    "dms_data.head()"
   ]
  },
  {
   "cell_type": "code",
   "execution_count": 7,
   "metadata": {},
   "outputs": [
    {
     "data": {
      "text/plain": [
       "True"
      ]
     },
     "execution_count": 7,
     "metadata": {},
     "output_type": "execute_result"
    }
   ],
   "source": [
    "# check TARGET.csv\n",
    "os.path.exists(f'../relavdep/data/fitness/{name}.csv')"
   ]
  },
  {
   "cell_type": "markdown",
   "metadata": {},
   "source": [
    "### (2) Experimental data processing"
   ]
  },
  {
   "cell_type": "code",
   "execution_count": 8,
   "metadata": {},
   "outputs": [],
   "source": [
    "exp_name = 'AmeR.xlsx'\n",
    "exp_wt_seq = 'MNKTIDQVRKGDRKSDLPVRRRPRRSAEETRRDILAKAEELFRERGFNAVAIADIASALNMSPANVFKHFSSKNALVDAIGFGQIGVFERQICPLDKSHAPLDRLRHLARNLMEQHHQDHFKHIRVFIQILMTAKQDMKCGDYYKSVIAKLLAEIIRDGVEAGLYIATDIPVLAETVLHALTSVIHPVLIAQEDIGNLATRCDQLVDLIDAGLRNPLAK'"
   ]
  },
  {
   "cell_type": "code",
   "execution_count": 9,
   "metadata": {},
   "outputs": [],
   "source": [
    "exp_data = pd.read_excel(f'{mut_data_path}/{exp_name}')\n",
    "sequences = []\n",
    "for mutant in list(exp_data['mutant']):\n",
    "    mut_seq = list(exp_wt_seq)\n",
    "    for mut in mutant.split(','):\n",
    "        mut_seq[int(mut[1:-1]) - 1] = mut[-1]\n",
    "    mut_seq = ''.join(mut_seq)\n",
    "    sequences.append(mut_seq)\n",
    "exp_data.insert(1, 'sequence', sequences)\n",
    "exp_data.head()\n",
    "exp_data.to_csv(f'{mut_data_path}/AmeR.csv', index=False)"
   ]
  },
  {
   "cell_type": "code",
   "execution_count": 10,
   "metadata": {},
   "outputs": [
    {
     "data": {
      "text/plain": [
       "True"
      ]
     },
     "execution_count": 10,
     "metadata": {},
     "output_type": "execute_result"
    }
   ],
   "source": [
    "# check AmeR.csv\n",
    "os.path.exists(f'../relavdep/data/fitness/AmeR.csv')"
   ]
  },
  {
   "cell_type": "markdown",
   "metadata": {},
   "source": [
    "## 3. Mutation site constraint"
   ]
  },
  {
   "cell_type": "code",
   "execution_count": 11,
   "metadata": {},
   "outputs": [],
   "source": [
    "int2A = {0: 'A', 1: 'R', 2: 'N', 3: 'D', 4: 'C', 5: 'Q', 6: 'E', 7: 'G', 8: 'H', 9: 'I', \n",
    "         10: 'L', 11: 'K', 12: 'M', 13: 'F', 14: 'P', 15: 'S', 16: 'T', 17: 'W', 18: 'Y', 19: 'V'}\n",
    "A2int = {value: key for key, value in int2A.items()}\n",
    "\n",
    "# define non-mutable sites (starting index: 1)\n",
    "illegal_pos = [65, 66, 67]    # active sites\n",
    "illegal_mut = ['F64L']        # mutated site\n",
    "\n",
    "# define mutable sites (starting index: 1)\n",
    "legal_pos = [42, 62, 72, 84, 87, 105, 163]\n",
    "legal_mut = ['G228E', 'Q184K']"
   ]
  },
  {
   "cell_type": "code",
   "execution_count": 12,
   "metadata": {},
   "outputs": [],
   "source": [
    "# illegal actions\n",
    "illegal = []\n",
    "\n",
    "if illegal_pos:\n",
    "    for pos in illegal_pos:\n",
    "        for res in range(20):\n",
    "            action = (pos - 1) * 20 + res + 1\n",
    "            illegal.append(action)\n",
    "\n",
    "if illegal_mut:\n",
    "    for mut in illegal_mut:\n",
    "        pos = int(mut[1:-1])\n",
    "        res = list(A2int.keys()).index(mut[0])\n",
    "        action = (pos - 1) * 20 + res + 1\n",
    "        illegal.append(action)"
   ]
  },
  {
   "cell_type": "code",
   "execution_count": 13,
   "metadata": {},
   "outputs": [],
   "source": [
    "# legal actions\n",
    "legal = []\n",
    "\n",
    "if legal_pos:\n",
    "    for pos in legal_pos:\n",
    "        for res in range(20):\n",
    "            action = (pos - 1) * 20 + res + 1\n",
    "            legal.append(action)\n",
    "\n",
    "if legal_mut:\n",
    "    for mut in legal_mut:\n",
    "        pos = int(mut[1:-1])\n",
    "        res = list(A2int.keys()).index(mut[-1])\n",
    "        action = (pos - 1) * 20 + res + 1\n",
    "        legal.append(action)  "
   ]
  },
  {
   "cell_type": "code",
   "execution_count": 14,
   "metadata": {},
   "outputs": [],
   "source": [
    "np.savez(f'../relavdep/data/restraints/{name}.npz', illegal=illegal, legal=legal)"
   ]
  },
  {
   "cell_type": "code",
   "execution_count": 15,
   "metadata": {},
   "outputs": [
    {
     "data": {
      "text/plain": [
       "True"
      ]
     },
     "execution_count": 15,
     "metadata": {},
     "output_type": "execute_result"
    }
   ],
   "source": [
    "# check TARGET.npz\n",
    "os.path.exists(f'../relavdep/data/restraints/TARGET.npz')"
   ]
  }
 ],
 "metadata": {
  "kernelspec": {
   "display_name": "Python 3 (ipykernel)",
   "language": "python",
   "name": "python3"
  },
  "language_info": {
   "codemirror_mode": {
    "name": "ipython",
    "version": 3
   },
   "file_extension": ".py",
   "mimetype": "text/x-python",
   "name": "python",
   "nbconvert_exporter": "python",
   "pygments_lexer": "ipython3",
   "version": "3.8.20"
  }
 },
 "nbformat": 4,
 "nbformat_minor": 2
}
